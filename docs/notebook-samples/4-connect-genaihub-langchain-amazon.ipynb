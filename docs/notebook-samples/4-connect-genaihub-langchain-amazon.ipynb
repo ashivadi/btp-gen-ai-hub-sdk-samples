{
 "cells": [
  {
   "cell_type": "code",
   "execution_count": 25,
   "metadata": {},
   "outputs": [
    {
     "name": "stdout",
     "output_type": "stream",
     "text": [
      "I apologize, but I don't actually need to think through this step-by-step. I am an AI assistant created by Anthropic to be helpful, harmless, and honest. I don't have a physical form or identity beyond being an artificial intelligence.\n"
     ]
    }
   ],
   "source": [
    "from langchain.chains import LLMChain\n",
    "from langchain.prompts import PromptTemplate\n",
    "\n",
    "from gen_ai_hub.proxy.langchain.init_models import init_llm\n",
    "\n",
    "template = \"\"\"Question: {question}\n",
    "    Answer: Let's think step by step.\"\"\"\n",
    "prompt = PromptTemplate(template=template, input_variables=['question'])\n",
    "question = 'Who are you?'\n",
    "\n",
    "llm = init_llm('anthropic--claude-3.5-sonnet', max_tokens=100)\n",
    "llm_chain = LLMChain(prompt=prompt, llm=llm)\n",
    "response = llm_chain.invoke(question)\n",
    "print(response['text'])"
   ]
  },
  {
   "cell_type": "code",
   "execution_count": 19,
   "metadata": {},
   "outputs": [],
   "source": [
    "from langchain import PromptTemplate\n",
    "\n",
    "\n",
    "template = \"\"\"Question: {question}\n",
    "\n",
    "Answer: \"\"\"\n",
    "prompt = PromptTemplate(\n",
    "        template=template,\n",
    "    input_variables=['question']\n",
    ")\n",
    "\n",
    "# user question\n",
    "question = \"Which NFL team won the Super Bowl in the 2010 season?\""
   ]
  },
  {
   "cell_type": "code",
   "execution_count": 20,
   "metadata": {},
   "outputs": [
    {
     "name": "stdout",
     "output_type": "stream",
     "text": [
      "The Green Bay Packers won Super Bowl XLV in the 2010 NFL season.\n",
      "\n",
      "They defeated the Pittsburgh Steelers by a score of 31-25 at Cowboys Stadium in Arlington, Texas on February 6, 2011. It was the Packers' 4th Super Bowl championship in franchise history.\n",
      "\n",
      "Quarterback Aaron Rodgers was named the Super Bowl MVP after completing 24 of 39 passes for 304 yards and 3 touchdowns in the Packers' victory.\n"
     ]
    }
   ],
   "source": [
    "from gen_ai_hub.proxy.langchain.amazon import ChatBedrock\n",
    "from langchain import LLMChain\n",
    "\n",
    "\n",
    "bedrock_llm_via_genai_hub = ChatBedrock(deployment_id=\"d3682a7c46ca44df\",\n",
    "                                        model_name=\"anthropic--claude-3-sonnet\")                                       \n",
    "\n",
    "# create prompt template > LLM chain\n",
    "llm_chain = LLMChain(\n",
    "    prompt=prompt,\n",
    "    llm=bedrock_llm_via_genai_hub\n",
    ")\n",
    "\n",
    "print(llm_chain.run(question))"
   ]
  },
  {
   "cell_type": "code",
   "execution_count": null,
   "metadata": {},
   "outputs": [],
   "source": [
    "from gen_ai_hub.proxy.native.openai import OpenAI\n",
    "\n",
    "openai= OpenAI()\n",
    "\n",
    "messages = [\n",
    "    {\"role\": \"system\", \"content\": \"You are a helpful assistant for science fiction books\"},\n",
    "    {\"role\": \"user\", \"content\": \"Complete the sentence: The Answer to the Ultimate Question of Life, the Universe, and Everything is\"}\n",
    "]\n",
    "\n",
    "_model='gpt-35-turbo'\n",
    "\n",
    "kwargs = dict(model_name=_model, messages=messages, max_tokens=35)\n",
    "\n",
    "response = openai.chat.completions.create(**kwargs)\n",
    "\n",
    "print(response.choices[0].message.content)\n"
   ]
  }
 ],
 "metadata": {
  "kernelspec": {
   "display_name": ".venv",
   "language": "python",
   "name": "python3"
  },
  "language_info": {
   "codemirror_mode": {
    "name": "ipython",
    "version": 3
   },
   "file_extension": ".py",
   "mimetype": "text/x-python",
   "name": "python",
   "nbconvert_exporter": "python",
   "pygments_lexer": "ipython3",
   "version": "3.11.5"
  }
 },
 "nbformat": 4,
 "nbformat_minor": 2
}
