{
 "cells": [
  {
   "cell_type": "markdown",
   "metadata": {},
   "source": [
    "### Connect from Environment Variables\n",
    "\n",
    "Read your \"VCAP_SERVICES\" value from your `.env` file of your workspace\n",
    "\n",
    "VCAP_SERVICES key-value entry is created if you \"bind\" your aicore service from Cloud Foundry tools\n",
    "\n",
    "Example entry: ```VCAP_SERVICES={\"aicore\":[{\"name\":\"default_aicore\",\"instance_name\":  ...```"
   ]
  },
  {
   "cell_type": "markdown",
   "metadata": {},
   "source": [
    "***Use this notebook to check if your credentials and connection for AI Core instance is good ***\n"
   ]
  },
  {
   "cell_type": "markdown",
   "metadata": {},
   "source": [
    "The fastest way to connect your AICore client.  Connect with AICoreV2Client_from_env()\n"
   ]
  },
  {
   "cell_type": "code",
   "execution_count": 38,
   "metadata": {},
   "outputs": [
    {
     "name": "stdout",
     "output_type": "stream",
     "text": [
      "Resources: [{Scenario id: foundation-models, Scenario description: AI Core Global Scenario for LLM Access}], Count: 1\n"
     ]
    }
   ],
   "source": [
    "from ai_core_sdk.ai_core_v2_client import AICoreV2Client\n",
    "import pprint\n",
    "\n",
    "'''\n",
    "If you have the following, the ai_core_client will be created successfully.\n",
    "\n",
    "cat ~/.aicore/config.json    \n",
    "{\n",
    "  \"AICORE_AUTH_URL\": \"https://<>.authentication.<region>.hana.ondemand.com\",\n",
    "  \"AICORE_CLIENT_ID\": \"sb-b776<.....>861|aicore<>\",\n",
    "  \"AICORE_CLIENT_SECRET\": \"2<.....>c=\",\n",
    "  \"AICORE_RESOURCE_GROUP\": \"default\",\n",
    "  \"AICORE_BASE_URL\": \"https://api.ai.prod.<region>.aws.ml.hana.ondemand.com\"\n",
    "}\n",
    "\n",
    "'''\n",
    "ai_core_client = AICoreV2Client.from_env()\n",
    "# Optional: print connection details\n",
    "print(ai_core_client.scenario.query_llm_scenarios())"
   ]
  },
  {
   "cell_type": "code",
   "execution_count": null,
   "metadata": {},
   "outputs": [],
   "source": [
    "# Optional: Print the Deployments\n",
    "print(ai_core_client.deployment.query())"
   ]
  },
  {
   "cell_type": "code",
   "execution_count": 40,
   "metadata": {},
   "outputs": [
    {
     "name": "stdout",
     "output_type": "stream",
     "text": [
      "Resources: [{Configuration id: b00ad687-ef41-49bb-b0a0-e80b5c92f0cd, Configuration name: ClaudeSonnect3.5_v5}, {Configuration id: 63937005-c471-4f49-92c1-0fe8aaa4b955, Configuration name: amazon--titan-embed-text}, {Configuration id: 7b5b1f4e-9c71-4dae-bd5b-37193b94e10f, Configuration name: amazon--titan-embed-text}, {Configuration id: 0fad5b08-c05f-4952-b087-267ebafbd792, Configuration name: poc2-configuration}, {Configuration id: 5de38555-cdea-4662-a389-5f4ea8c1fbba, Configuration name: claude3.5sonnet_v4}, {Configuration id: 47bdd521-90d6-4629-b06f-6baa5bd36437, Configuration name: claude3.5sonnet_v3}, {Configuration id: 2435dcd2-19e2-4613-b059-bcd051387844, Configuration name: claude3_v2}, {Configuration id: 701364a6-64df-4a5f-843f-46be4c2b722d, Configuration name: claude3.5Sonnet_v2}, {Configuration id: f9545e79-0786-4972-8518-30398b96a287, Configuration name: claude3.5Sonnet}, {Configuration id: 262015ad-5643-43d0-a5c4-92a0793f6e02, Configuration name: hello-pipeline-conf}, {Configuration id: c3aa3060-25d0-44c8-9b4c-7da6f995450b, Configuration name: openai-test-config}, {Configuration id: ec91b798-5c95-427e-8049-f04b15fec6eb, Configuration name: titan-express-test-config}, {Configuration id: 5138bba9-d82f-40e0-8ab8-063f12bc65e4, Configuration name: titan-test-config}, {Configuration id: 31b50c46-b899-4848-a489-2ea3726bc386, Configuration name: test-aicore-config}], Count: 14\n"
     ]
    }
   ],
   "source": [
    "print(ai_core_client.configuration.query())"
   ]
  },
  {
   "cell_type": "markdown",
   "metadata": {},
   "source": [
    "The manual way to connect your AICore client. Use Python package cfenv to read your \"VCAP_SERVICES\" value your `.env` of your workspace."
   ]
  },
  {
   "cell_type": "code",
   "execution_count": null,
   "metadata": {},
   "outputs": [],
   "source": [
    "import os\n",
    "from cfenv import AppEnv\n",
    "from ai_core_sdk.ai_core_v2_client import AICoreV2Client\n",
    "\n",
    "env = AppEnv()\n",
    "\n",
    "aic_service = 'aicore'\n",
    "aicenv = env.get_service(label=aic_service)\n",
    "\n",
    "# Creating an AI API client instance\n",
    "ai_core_client = AICoreV2Client(\n",
    "    base_url = aicenv.credentials['serviceurls']['AI_API_URL'] + \"/v2\",\n",
    "    auth_url=  aicenv.credentials['url'] + \"/oauth/token\",\n",
    "    client_id = aicenv.credentials['clientid'],\n",
    "    client_secret = aicenv.credentials['clientsecret']\n",
    ")\n",
    "\n",
    "# Optional: Print client details\n",
    "print(ai_core_client.scenario.query(resource_group = 'default'))\n"
   ]
  },
  {
   "cell_type": "code",
   "execution_count": null,
   "metadata": {},
   "outputs": [],
   "source": [
    "# Optional: Print your environment\n",
    "\n",
    "print(*aicenv.credentials, sep = \"\\n\")\n",
    "\n",
    "#print(aicenv.env)  \n",
    "#print(aicenv.name)\n",
    "\n",
    "#print(aicenv.credentials['appname'])\n",
    "#print(aicenv.credentials['clientid'])\n",
    "#print(aicenv.credentials['clientsecret'])\n",
    "#print(aicenv.credentials['serviceurls'])\n",
    "#print(aicenv.credentials['url'] + \"/oauth/token\")\n",
    "#print(aicenv.credentials['serviceurls']['AI_API_URL'] + \"/v2\")"
   ]
  },
  {
   "cell_type": "markdown",
   "metadata": {},
   "source": [
    "Optional: Load from manually created key value pairs in your local `.env` file in your workspace root directory."
   ]
  },
  {
   "cell_type": "code",
   "execution_count": null,
   "metadata": {},
   "outputs": [],
   "source": [
    "import os\n",
    "# from dotenv import load_dotenv\n",
    "from ai_core_sdk.ai_core_v2_client import AICoreV2Client\n",
    "\n",
    "# load_dotenv()\n",
    "\n",
    "# AICORE_BASE_URL  = os.getenv('AICORE_BASE_URL')\n",
    "# AICORE_AUTH_URL = os.getenv('AICORE_AUTH_URL')\n",
    "# AICORE_CLIENT_ID = os.getenv('AICORE_CLIENT_ID')\n",
    "# AICORE_CLIENT_SECRET  = os.getenv('AICORE_CLIENT_SECRET')\n",
    "# AICORE_RESOURCE_GROUP  = os.getenv('AICORE_RESOURCE_GROUP')\n",
    "\n",
    "# #print(AICORE_BASE_URL)   # https://api.ai.prod.your_region.ml.hana.ondemand.com/v2\n",
    "# #print(AICORE_AUTH_URL)   # https://yourdomain.authentication.yourregion.hana.ondemand.com/oauth/token\n",
    "# #print(AICORE_CLIENT_ID)\n",
    "# #print(AICORE_CLIENT_SECRET)\n",
    "# print(AICORE_RESOURCE_GROUP)\n",
    "\n",
    "ai_core_client = AICoreV2Client(\n",
    "    base_url = AICORE_BASE_URL,\n",
    "    auth_url=  AICORE_AUTH_URL,\n",
    "    client_id = AICORE_CLIENT_ID,\n",
    "    client_secret = AICORE_CLIENT_SECRET,\n",
    "    resource_group=AICORE_RESOURCE_GROUP\n",
    ")\n",
    "\n",
    "print(ai_core_client.scenario.query())"
   ]
  },
  {
   "cell_type": "code",
   "execution_count": null,
   "metadata": {},
   "outputs": [],
   "source": []
  }
 ],
 "metadata": {
  "kernelspec": {
   "display_name": ".venv",
   "language": "python",
   "name": "python3"
  },
  "language_info": {
   "codemirror_mode": {
    "name": "ipython",
    "version": 3
   },
   "file_extension": ".py",
   "mimetype": "text/x-python",
   "name": "python",
   "nbconvert_exporter": "python",
   "pygments_lexer": "ipython3",
   "version": "3.11.5"
  }
 },
 "nbformat": 4,
 "nbformat_minor": 2
}
